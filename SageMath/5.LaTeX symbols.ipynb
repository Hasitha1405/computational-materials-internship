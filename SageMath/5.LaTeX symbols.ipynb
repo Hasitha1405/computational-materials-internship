{
 "cells": [
  {
   "cell_type": "code",
   "execution_count": 16,
   "metadata": {},
   "outputs": [
    {
     "data": {
      "text/html": [
       "<html><script type=\"math/tex; mode=display\">\\newcommand{\\Bold}[1]{\\mathbf{#1}}\\eta = 1</script></html>"
      ],
      "text/latex": [
       "$$\\newcommand{\\Bold}[1]{\\mathbf{#1}}\\eta = 1$$"
      ],
      "text/plain": [
       "eta == 1"
      ]
     },
     "metadata": {},
     "output_type": "display_data"
    }
   ],
   "source": [
    "var('eta')\n",
    "exp=eta==1\n",
    "exp.show()"
   ]
  },
  {
   "cell_type": "code",
   "execution_count": 2,
   "metadata": {},
   "outputs": [
    {
     "data": {
      "text/html": [
       "<html><script type=\"math/tex; mode=display\">\\newcommand{\\Bold}[1]{\\mathbf{#1}}a_{1} + x_{2} + z_{3} = \\mathit{dg}_{1} + \\eta_{2} + \\mu_{3}</script></html>"
      ],
      "text/latex": [
       "$$\\newcommand{\\Bold}[1]{\\mathbf{#1}}a_{1} + x_{2} + z_{3} = \\mathit{dg}_{1} + \\eta_{2} + \\mu_{3}$$"
      ],
      "text/plain": [
       "a1 + x2 + z3 == dg1 + eta2 + mu3"
      ]
     },
     "metadata": {},
     "output_type": "display_data"
    }
   ],
   "source": [
    "#numbers are subscripted\n",
    "var('a1, x2, z3, dg1, eta2, mu3')\n",
    "expr2 = a1 + x2 + z3 == dg1 + eta2 + mu3\n",
    "expr2.show()"
   ]
  },
  {
   "cell_type": "code",
   "execution_count": 9,
   "metadata": {},
   "outputs": [
    {
     "data": {
      "text/html": [
       "<html><script type=\"math/tex; mode=display\">\\newcommand{\\Bold}[1]{\\mathbf{#1}}{\\varepsilon}</script></html>"
      ],
      "text/latex": [
       "$$\\newcommand{\\Bold}[1]{\\mathbf{#1}}{\\varepsilon}$$"
      ],
      "text/plain": [
       "ve"
      ]
     },
     "metadata": {},
     "output_type": "display_data"
    },
    {
     "data": {
      "text/html": [
       "<html><script type=\"math/tex; mode=display\">\\newcommand{\\Bold}[1]{\\mathbf{#1}}\\mathit{varepsilon} = 1</script></html>"
      ],
      "text/latex": [
       "$$\\newcommand{\\Bold}[1]{\\mathbf{#1}}\\mathit{varepsilon} = 1$$"
      ],
      "text/plain": [
       "varepsilon == 1"
      ]
     },
     "metadata": {},
     "output_type": "display_data"
    },
    {
     "data": {
      "text/html": [
       "<html><script type=\"math/tex; mode=display\">\\newcommand{\\Bold}[1]{\\mathbf{#1}}\\epsilon = 1</script></html>"
      ],
      "text/latex": [
       "$$\\newcommand{\\Bold}[1]{\\mathbf{#1}}\\epsilon = 1$$"
      ],
      "text/plain": [
       "epsilon == 1"
      ]
     },
     "metadata": {},
     "output_type": "display_data"
    }
   ],
   "source": [
    "var('ve', latex_name='\\\\varepsilon')\n",
    "ve.show()\n",
    "var('varepsilon')\n",
    "myeq=varepsilon==1\n",
    "myeq.show()\n",
    "#certain symbols not auto displayed\n",
    "\n",
    "\n",
    "var('epsilon')\n",
    "myeq1=epsilon==1\n",
    "myeq1.show()"
   ]
  },
  {
   "cell_type": "code",
   "execution_count": 10,
   "metadata": {},
   "outputs": [
    {
     "data": {
      "text/html": [
       "<html><script type=\"math/tex; mode=display\">\\newcommand{\\Bold}[1]{\\mathbf{#1}}{\\Delta G_i^0} = 20.0000000000000</script></html>"
      ],
      "text/latex": [
       "$$\\newcommand{\\Bold}[1]{\\mathbf{#1}}{\\Delta G_i^0} = 20.0000000000000$$"
      ],
      "text/plain": [
       "DG == 20.0000000000000"
      ]
     },
     "metadata": {},
     "output_type": "display_data"
    }
   ],
   "source": [
    "var('DG', latex_name = \"\\\\Delta G_i^0\")\n",
    "expr3 = DG == 20.0\n",
    "expr3.show()"
   ]
  },
  {
   "cell_type": "code",
   "execution_count": 21,
   "metadata": {},
   "outputs": [
    {
     "data": {
      "text/html": [
       "<html><script type=\"math/tex; mode=display\">\\newcommand{\\Bold}[1]{\\mathbf{#1}}{\\sum_{n=0}^{n=n}{1 \\over x_n}}</script></html>"
      ],
      "text/latex": [
       "$$\\newcommand{\\Bold}[1]{\\mathbf{#1}}{\\sum_{n=0}^{n=n}{1 \\over x_n}}$$"
      ],
      "text/plain": [
       "sxn"
      ]
     },
     "metadata": {},
     "output_type": "display_data"
    }
   ],
   "source": [
    "var('sxn', latex_name = \"\\\\sum_{n=0}^{n=n}{1 \\\\over x_n}\")\n",
    "sxn.show()"
   ]
  }
 ],
 "metadata": {
  "kernelspec": {
   "display_name": "SageMath 9.3",
   "language": "sage",
   "name": "sagemath"
  },
  "language_info": {
   "codemirror_mode": {
    "name": "ipython",
    "version": 3
   },
   "file_extension": ".py",
   "mimetype": "text/x-python",
   "name": "python",
   "nbconvert_exporter": "python",
   "pygments_lexer": "ipython3",
   "version": "3.7.10"
  }
 },
 "nbformat": 4,
 "nbformat_minor": 4
}
