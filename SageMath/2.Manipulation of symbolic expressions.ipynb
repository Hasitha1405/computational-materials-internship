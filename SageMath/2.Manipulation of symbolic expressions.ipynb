{
 "cells": [
  {
   "cell_type": "markdown",
   "metadata": {},
   "source": [
    "RATIONAL FUNCTIONS"
   ]
  },
  {
   "cell_type": "code",
   "execution_count": 29,
   "metadata": {},
   "outputs": [
    {
     "data": {
      "text/html": [
       "<html><script type=\"math/tex; mode=display\">\\newcommand{\\Bold}[1]{\\mathbf{#1}}\\frac{x + 1}{{\\left(x + 2\\right)}^{3} x^{2}}</script></html>"
      ],
      "text/latex": [
       "$$\\newcommand{\\Bold}[1]{\\mathbf{#1}}\\frac{x + 1}{{\\left(x + 2\\right)}^{3} x^{2}}$$"
      ],
      "text/plain": [
       "(x + 1)/((x + 2)^3*x^2)"
      ]
     },
     "metadata": {},
     "output_type": "display_data"
    }
   ],
   "source": [
    "exp=(x+1)/(x^2*(x+2)^3)\n",
    "exp.show()"
   ]
  },
  {
   "cell_type": "code",
   "execution_count": 30,
   "metadata": {},
   "outputs": [
    {
     "data": {
      "text/html": [
       "<html><script type=\"math/tex; mode=display\">\\newcommand{\\Bold}[1]{\\mathbf{#1}}\\frac{x + 1}{{\\left(x + 2\\right)}^{3} x^{2}}</script></html>"
      ],
      "text/latex": [
       "$$\\newcommand{\\Bold}[1]{\\mathbf{#1}}\\frac{x + 1}{{\\left(x + 2\\right)}^{3} x^{2}}$$"
      ],
      "text/plain": [
       "(x + 1)/((x + 2)^3*x^2)"
      ]
     },
     "metadata": {},
     "output_type": "display_data"
    }
   ],
   "source": [
    "exp.simplify().show()"
   ]
  },
  {
   "cell_type": "code",
   "execution_count": 4,
   "metadata": {},
   "outputs": [
    {
     "data": {
      "text/html": [
       "<html><script type=\"math/tex; mode=display\">\\newcommand{\\Bold}[1]{\\mathbf{#1}}x + 1</script></html>"
      ],
      "text/latex": [
       "$$\\newcommand{\\Bold}[1]{\\mathbf{#1}}x + 1$$"
      ],
      "text/plain": [
       "x + 1"
      ]
     },
     "metadata": {},
     "output_type": "display_data"
    }
   ],
   "source": [
    "exp.numerator().show()"
   ]
  },
  {
   "cell_type": "code",
   "execution_count": 5,
   "metadata": {},
   "outputs": [
    {
     "data": {
      "text/html": [
       "<html><script type=\"math/tex; mode=display\">\\newcommand{\\Bold}[1]{\\mathbf{#1}}{\\left(x + 2\\right)}^{3} x^{2}</script></html>"
      ],
      "text/latex": [
       "$$\\newcommand{\\Bold}[1]{\\mathbf{#1}}{\\left(x + 2\\right)}^{3} x^{2}$$"
      ],
      "text/plain": [
       "(x + 2)^3*x^2"
      ]
     },
     "metadata": {},
     "output_type": "display_data"
    }
   ],
   "source": [
    "exp.denominator().show()"
   ]
  },
  {
   "cell_type": "code",
   "execution_count": 7,
   "metadata": {},
   "outputs": [
    {
     "data": {
      "text/html": [
       "<html><script type=\"math/tex; mode=display\">\\newcommand{\\Bold}[1]{\\mathbf{#1}}\\frac{1}{{\\left(x^{3} + 6 \\, x^{2} + 12 \\, x + 8\\right)} x} + \\frac{1}{{\\left(x^{3} + 6 \\, x^{2} + 12 \\, x + 8\\right)} x^{2}}</script></html>"
      ],
      "text/latex": [
       "$$\\newcommand{\\Bold}[1]{\\mathbf{#1}}\\frac{1}{{\\left(x^{3} + 6 \\, x^{2} + 12 \\, x + 8\\right)} x} + \\frac{1}{{\\left(x^{3} + 6 \\, x^{2} + 12 \\, x + 8\\right)} x^{2}}$$"
      ],
      "text/plain": [
       "1/((x^3 + 6*x^2 + 12*x + 8)*x) + 1/((x^3 + 6*x^2 + 12*x + 8)*x^2)"
      ]
     },
     "metadata": {},
     "output_type": "display_data"
    }
   ],
   "source": [
    "exp.expand().show()"
   ]
  },
  {
   "cell_type": "code",
   "execution_count": 8,
   "metadata": {},
   "outputs": [
    {
     "data": {
      "text/html": [
       "<html><script type=\"math/tex; mode=display\">\\newcommand{\\Bold}[1]{\\mathbf{#1}}\\frac{1}{16 \\, {\\left(x + 2\\right)}} - \\frac{1}{16 \\, x} + \\frac{1}{8 \\, x^{2}} - \\frac{1}{4 \\, {\\left(x + 2\\right)}^{3}}</script></html>"
      ],
      "text/latex": [
       "$$\\newcommand{\\Bold}[1]{\\mathbf{#1}}\\frac{1}{16 \\, {\\left(x + 2\\right)}} - \\frac{1}{16 \\, x} + \\frac{1}{8 \\, x^{2}} - \\frac{1}{4 \\, {\\left(x + 2\\right)}^{3}}$$"
      ],
      "text/plain": [
       "1/16/(x + 2) - 1/16/x + 1/8/x^2 - 1/4/(x + 2)^3"
      ]
     },
     "metadata": {},
     "output_type": "display_data"
    }
   ],
   "source": [
    "exp.partial_fraction().show()"
   ]
  },
  {
   "cell_type": "markdown",
   "metadata": {},
   "source": [
    "SUBSTITUTIONS"
   ]
  },
  {
   "cell_type": "code",
   "execution_count": 17,
   "metadata": {},
   "outputs": [
    {
     "data": {
      "text/html": [
       "<html><script type=\"math/tex; mode=display\">\\newcommand{\\Bold}[1]{\\mathbf{#1}}x^{2} + {\\left(x - 3\\right)} \\cos\\left(x - 3\\right) - 6 \\, x + \\frac{1}{x} + 9</script></html>"
      ],
      "text/latex": [
       "$$\\newcommand{\\Bold}[1]{\\mathbf{#1}}x^{2} + {\\left(x - 3\\right)} \\cos\\left(x - 3\\right) - 6 \\, x + \\frac{1}{x} + 9$$"
      ],
      "text/plain": [
       "x^2 + (x - 3)*cos(x - 3) - 6*x + 1/x + 9"
      ]
     },
     "metadata": {},
     "output_type": "display_data"
    }
   ],
   "source": [
    "var('x,y')\n",
    "exp2 = 1/x + x^2 + 9 - 6*x + (x-3)*cos(x-3)\n",
    "exp2.show()"
   ]
  },
  {
   "cell_type": "code",
   "execution_count": 12,
   "metadata": {},
   "outputs": [
    {
     "data": {
      "text/html": [
       "<html><script type=\"math/tex; mode=display\">\\newcommand{\\Bold}[1]{\\mathbf{#1}}{\\left(t + 3\\right)}^{2} + t \\cos\\left(t\\right) - 6 \\, t + \\frac{1}{t + 3} - 9</script></html>"
      ],
      "text/latex": [
       "$$\\newcommand{\\Bold}[1]{\\mathbf{#1}}{\\left(t + 3\\right)}^{2} + t \\cos\\left(t\\right) - 6 \\, t + \\frac{1}{t + 3} - 9$$"
      ],
      "text/plain": [
       "(t + 3)^2 + t*cos(t) - 6*t + 1/(t + 3) - 9"
      ]
     },
     "metadata": {},
     "output_type": "display_data"
    }
   ],
   "source": [
    "var('t')\n",
    "exp2.subs(x==(t+3)).show()"
   ]
  },
  {
   "cell_type": "code",
   "execution_count": 13,
   "metadata": {},
   "outputs": [
    {
     "data": {
      "text/html": [
       "<html><script type=\"math/tex; mode=display\">\\newcommand{\\Bold}[1]{\\mathbf{#1}}x = t + 3</script></html>"
      ],
      "text/latex": [
       "$$\\newcommand{\\Bold}[1]{\\mathbf{#1}}x = t + 3$$"
      ],
      "text/plain": [
       "x == t + 3"
      ]
     },
     "metadata": {},
     "output_type": "display_data"
    }
   ],
   "source": [
    "rule1= x==t+3\n",
    "rule1.show()"
   ]
  },
  {
   "cell_type": "code",
   "execution_count": 15,
   "metadata": {},
   "outputs": [
    {
     "data": {
      "text/html": [
       "<html><script type=\"math/tex; mode=display\">\\newcommand{\\Bold}[1]{\\mathbf{#1}}t^{2} + t \\cos\\left(t\\right) + \\frac{1}{t + 3}</script></html>"
      ],
      "text/latex": [
       "$$\\newcommand{\\Bold}[1]{\\mathbf{#1}}t^{2} + t \\cos\\left(t\\right) + \\frac{1}{t + 3}$$"
      ],
      "text/plain": [
       "t^2 + t*cos(t) + 1/(t + 3)"
      ]
     },
     "metadata": {},
     "output_type": "display_data"
    }
   ],
   "source": [
    "exp2.subs(rule1).expand().show()"
   ]
  },
  {
   "cell_type": "markdown",
   "metadata": {},
   "source": [
    "TRIG"
   ]
  },
  {
   "cell_type": "code",
   "execution_count": 19,
   "metadata": {},
   "outputs": [
    {
     "data": {
      "text/html": [
       "<html><script type=\"math/tex; mode=display\">\\newcommand{\\Bold}[1]{\\mathbf{#1}}\\cos\\left(x\\right)^{2} \\sin\\left(x\\right)^{2} + \\sin\\left(y\\right)^{2}</script></html>"
      ],
      "text/latex": [
       "$$\\newcommand{\\Bold}[1]{\\mathbf{#1}}\\cos\\left(x\\right)^{2} \\sin\\left(x\\right)^{2} + \\sin\\left(y\\right)^{2}$$"
      ],
      "text/plain": [
       "cos(x)^2*sin(x)^2 + sin(y)^2"
      ]
     },
     "metadata": {},
     "output_type": "display_data"
    }
   ],
   "source": [
    "trig1=sin(x)^2*cos(x)^2+sin(y)^2\n",
    "trig1.show()"
   ]
  },
  {
   "cell_type": "code",
   "execution_count": 20,
   "metadata": {},
   "outputs": [
    {
     "data": {
      "text/html": [
       "<html><script type=\"math/tex; mode=display\">\\newcommand{\\Bold}[1]{\\mathbf{#1}}-\\frac{1}{8} \\, \\cos\\left(4 \\, x\\right) - \\frac{1}{2} \\, \\cos\\left(2 \\, y\\right) + \\frac{5}{8}</script></html>"
      ],
      "text/latex": [
       "$$\\newcommand{\\Bold}[1]{\\mathbf{#1}}-\\frac{1}{8} \\, \\cos\\left(4 \\, x\\right) - \\frac{1}{2} \\, \\cos\\left(2 \\, y\\right) + \\frac{5}{8}$$"
      ],
      "text/plain": [
       "-1/8*cos(4*x) - 1/2*cos(2*y) + 5/8"
      ]
     },
     "metadata": {},
     "output_type": "display_data"
    }
   ],
   "source": [
    "trig1.trig_reduce().show()"
   ]
  },
  {
   "cell_type": "code",
   "execution_count": 22,
   "metadata": {},
   "outputs": [
    {
     "data": {
      "text/html": [
       "<html><script type=\"math/tex; mode=display\">\\newcommand{\\Bold}[1]{\\mathbf{#1}}1</script></html>"
      ],
      "text/latex": [
       "$$\\newcommand{\\Bold}[1]{\\mathbf{#1}}1$$"
      ],
      "text/plain": [
       "1"
      ]
     },
     "metadata": {},
     "output_type": "display_data"
    }
   ],
   "source": [
    "trig2=sin(x)^2+cos(x)^2\n",
    "trig2.trig_simplify().show()"
   ]
  },
  {
   "cell_type": "markdown",
   "metadata": {},
   "source": [
    "LOG"
   ]
  },
  {
   "cell_type": "code",
   "execution_count": 24,
   "metadata": {},
   "outputs": [
    {
     "data": {
      "text/html": [
       "<html><script type=\"math/tex; mode=display\">\\newcommand{\\Bold}[1]{\\mathbf{#1}}\\log\\left(\\frac{\\sqrt{x^{3}} \\cos\\left(x\\right)}{\\sqrt{x + 3} \\sin\\left(x\\right)}\\right)</script></html>"
      ],
      "text/latex": [
       "$$\\newcommand{\\Bold}[1]{\\mathbf{#1}}\\log\\left(\\frac{\\sqrt{x^{3}} \\cos\\left(x\\right)}{\\sqrt{x + 3} \\sin\\left(x\\right)}\\right)$$"
      ],
      "text/plain": [
       "log(sqrt(x^3)*cos(x)/(sqrt(x + 3)*sin(x)))"
      ]
     },
     "metadata": {},
     "output_type": "display_data"
    }
   ],
   "source": [
    "log1 = log(sqrt(x^3)*cos(x)/(sqrt(3+x)*sin(x)))\n",
    "log1.show()"
   ]
  },
  {
   "cell_type": "code",
   "execution_count": 28,
   "metadata": {},
   "outputs": [
    {
     "data": {
      "text/html": [
       "<html><script type=\"math/tex; mode=display\">\\newcommand{\\Bold}[1]{\\mathbf{#1}}\\log\\left(\\frac{\\sqrt{x^{3}} \\cos\\left(x\\right)}{\\sqrt{x + 3} \\sin\\left(x\\right)}\\right)</script></html>"
      ],
      "text/latex": [
       "$$\\newcommand{\\Bold}[1]{\\mathbf{#1}}\\log\\left(\\frac{\\sqrt{x^{3}} \\cos\\left(x\\right)}{\\sqrt{x + 3} \\sin\\left(x\\right)}\\right)$$"
      ],
      "text/plain": [
       "log(sqrt(x^3)*cos(x)/(sqrt(x + 3)*sin(x)))"
      ]
     },
     "metadata": {},
     "output_type": "display_data"
    }
   ],
   "source": [
    "log1.simplify().show() #no reduce in log"
   ]
  },
  {
   "cell_type": "markdown",
   "metadata": {},
   "source": [
    "RADICALS"
   ]
  },
  {
   "cell_type": "code",
   "execution_count": 35,
   "metadata": {
    "scrolled": true
   },
   "outputs": [
    {
     "data": {
      "text/html": [
       "<html><script type=\"math/tex; mode=display\">\\newcommand{\\Bold}[1]{\\mathbf{#1}}\\frac{\\sqrt{x^{2} + x}}{\\sqrt{x}}</script></html>"
      ],
      "text/latex": [
       "$$\\newcommand{\\Bold}[1]{\\mathbf{#1}}\\frac{\\sqrt{x^{2} + x}}{\\sqrt{x}}$$"
      ],
      "text/plain": [
       "sqrt(x^2 + x)/sqrt(x)"
      ]
     },
     "metadata": {},
     "output_type": "display_data"
    }
   ],
   "source": [
    "rad1=sqrt(x^2+x)/sqrt(x)\n",
    "rad1.show()"
   ]
  },
  {
   "cell_type": "code",
   "execution_count": 33,
   "metadata": {},
   "outputs": [
    {
     "data": {
      "text/html": [
       "<html><script type=\"math/tex; mode=display\">\\newcommand{\\Bold}[1]{\\mathbf{#1}}\\sqrt{x + 1}</script></html>"
      ],
      "text/latex": [
       "$$\\newcommand{\\Bold}[1]{\\mathbf{#1}}\\sqrt{x + 1}$$"
      ],
      "text/plain": [
       "sqrt(x + 1)"
      ]
     },
     "metadata": {},
     "output_type": "display_data"
    }
   ],
   "source": [
    "rad1.canonicalize_radical().show()"
   ]
  },
  {
   "cell_type": "code",
   "execution_count": null,
   "metadata": {},
   "outputs": [],
   "source": []
  }
 ],
 "metadata": {
  "kernelspec": {
   "display_name": "SageMath 9.3",
   "language": "sage",
   "name": "sagemath"
  },
  "language_info": {
   "codemirror_mode": {
    "name": "ipython",
    "version": 3
   },
   "file_extension": ".py",
   "mimetype": "text/x-python",
   "name": "python",
   "nbconvert_exporter": "python",
   "pygments_lexer": "ipython3",
   "version": "3.7.10"
  }
 },
 "nbformat": 4,
 "nbformat_minor": 4
}
