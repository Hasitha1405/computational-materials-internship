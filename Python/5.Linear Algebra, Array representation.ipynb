{
 "cells": [
  {
   "cell_type": "code",
   "execution_count": 1,
   "metadata": {},
   "outputs": [
    {
     "name": "stdout",
     "output_type": "stream",
     "text": [
      "[0.68851359 0.23536068 0.74086735 0.12192053 0.3967907  0.74879549\n",
      " 0.2888273  0.1080722  0.22371615]\n"
     ]
    }
   ],
   "source": [
    "import numpy as np\n",
    "\n",
    "A= np.random.rand(9)\n",
    "print(A)"
   ]
  },
  {
   "cell_type": "code",
   "execution_count": 2,
   "metadata": {},
   "outputs": [
    {
     "data": {
      "text/plain": [
       "(1, 9, 8, 72, dtype('float64'))"
      ]
     },
     "execution_count": 2,
     "metadata": {},
     "output_type": "execute_result"
    }
   ],
   "source": [
    "A.ndim, A.size, A.itemsize, A.nbytes, A.dtype "
   ]
  },
  {
   "cell_type": "code",
   "execution_count": 4,
   "metadata": {},
   "outputs": [
    {
     "name": "stdout",
     "output_type": "stream",
     "text": [
      "[[0.68851359 0.23536068 0.74086735]\n",
      " [0.12192053 0.3967907  0.74879549]\n",
      " [0.2888273  0.1080722  0.22371615]]\n"
     ]
    }
   ],
   "source": [
    "B= A.reshape(3,3)\n",
    "print(B)"
   ]
  },
  {
   "cell_type": "code",
   "execution_count": 5,
   "metadata": {},
   "outputs": [
    {
     "data": {
      "text/plain": [
       "3"
      ]
     },
     "execution_count": 5,
     "metadata": {},
     "output_type": "execute_result"
    }
   ],
   "source": [
    "np.linalg.matrix_rank(B)"
   ]
  },
  {
   "cell_type": "code",
   "execution_count": 6,
   "metadata": {},
   "outputs": [
    {
     "data": {
      "text/plain": [
       "-0.025261005798564752"
      ]
     },
     "execution_count": 6,
     "metadata": {},
     "output_type": "execute_result"
    }
   ],
   "source": [
    "np.linalg.det(B)"
   ]
  },
  {
   "cell_type": "code",
   "execution_count": 8,
   "metadata": {},
   "outputs": [
    {
     "name": "stdout",
     "output_type": "stream",
     "text": [
      "[[-0.31053849 -1.08519734  4.66063215]\n",
      " [-7.48176817  2.37326665 16.8334127 ]\n",
      " [ 4.01519112  0.25456578 -9.67896887]]\n"
     ]
    }
   ],
   "source": [
    "BI=np.linalg.inv(B)\n",
    "print(BI)"
   ]
  },
  {
   "cell_type": "code",
   "execution_count": 11,
   "metadata": {},
   "outputs": [
    {
     "name": "stdout",
     "output_type": "stream",
     "text": [
      "[[ 1.00000000e+00  1.47414841e-16 -5.73189421e-16]\n",
      " [ 1.11477058e-16  1.00000000e+00  5.85732983e-17]\n",
      " [-3.37709888e-17  5.27130568e-17  1.00000000e+00]]\n"
     ]
    }
   ],
   "source": [
    "M=np.dot(B,BI)\n",
    "print(M)"
   ]
  },
  {
   "cell_type": "code",
   "execution_count": 14,
   "metadata": {},
   "outputs": [
    {
     "data": {
      "text/plain": [
       "True"
      ]
     },
     "execution_count": 14,
     "metadata": {},
     "output_type": "execute_result"
    }
   ],
   "source": [
    "np.allclose(M, np.eye(3))"
   ]
  },
  {
   "cell_type": "code",
   "execution_count": 16,
   "metadata": {},
   "outputs": [
    {
     "data": {
      "text/plain": [
       "matrix([[ 1, -2,  1],\n",
       "        [ 0,  1, -4],\n",
       "        [-4,  5,  9]])"
      ]
     },
     "execution_count": 16,
     "metadata": {},
     "output_type": "execute_result"
    }
   ],
   "source": [
    "#LINEAR EQUATIONS\n",
    "\n",
    "X=np.mat('1,-2,1;0,1,-4;-4,5,9')\n",
    "X"
   ]
  },
  {
   "cell_type": "code",
   "execution_count": 18,
   "metadata": {},
   "outputs": [
    {
     "data": {
      "text/plain": [
       "matrix([[  1],\n",
       "        [  4],\n",
       "        [-13]])"
      ]
     },
     "execution_count": 18,
     "metadata": {},
     "output_type": "execute_result"
    }
   ],
   "source": [
    "Y=np.mat('1,4,-13').transpose()\n",
    "Y"
   ]
  },
  {
   "cell_type": "code",
   "execution_count": 19,
   "metadata": {},
   "outputs": [
    {
     "data": {
      "text/plain": [
       "matrix([[30.],\n",
       "        [16.],\n",
       "        [ 3.]])"
      ]
     },
     "execution_count": 19,
     "metadata": {},
     "output_type": "execute_result"
    }
   ],
   "source": [
    "Z=np.linalg.solve(X,Y)\n",
    "Z"
   ]
  },
  {
   "cell_type": "code",
   "execution_count": 20,
   "metadata": {},
   "outputs": [
    {
     "data": {
      "text/plain": [
       "matrix([[  1.],\n",
       "        [  4.],\n",
       "        [-13.]])"
      ]
     },
     "execution_count": 20,
     "metadata": {},
     "output_type": "execute_result"
    }
   ],
   "source": [
    "np.dot(X,Z)"
   ]
  },
  {
   "cell_type": "code",
   "execution_count": 25,
   "metadata": {},
   "outputs": [
    {
     "name": "stdout",
     "output_type": "stream",
     "text": [
      "[ 1.11642253  0.27490531 -0.08230741] \n",
      " \n",
      " [[-0.81917621 -0.36319591 -0.28802599]\n",
      " [-0.47431127  0.92718073 -0.78466539]\n",
      " [-0.322458   -0.09178573  0.54894558]]\n"
     ]
    }
   ],
   "source": [
    "evalues, evectors= np.linalg.eig(B)\n",
    "print(evalues,'\\n', '\\n', evectors)"
   ]
  },
  {
   "cell_type": "markdown",
   "metadata": {},
   "source": [
    "# ARRAY"
   ]
  },
  {
   "cell_type": "code",
   "execution_count": 35,
   "metadata": {},
   "outputs": [
    {
     "name": "stdout",
     "output_type": "stream",
     "text": [
      "strides: (800, 8) \n",
      " \n",
      "   C_CONTIGUOUS : True\n",
      "  F_CONTIGUOUS : False\n",
      "  OWNDATA : True\n",
      "  WRITEABLE : True\n",
      "  ALIGNED : True\n",
      "  WRITEBACKIFCOPY : False\n",
      "  UPDATEIFCOPY : False\n",
      "\n",
      "strides: (8, 800) \n",
      " \n",
      "   C_CONTIGUOUS : False\n",
      "  F_CONTIGUOUS : True\n",
      "  OWNDATA : True\n",
      "  WRITEABLE : True\n",
      "  ALIGNED : True\n",
      "  WRITEBACKIFCOPY : False\n",
      "  UPDATEIFCOPY : False\n",
      "\n"
     ]
    }
   ],
   "source": [
    "C = np.random.rand(100,100)\n",
    "F = np.asfortranarray(C)\n",
    "\n",
    "def addrow(x):\n",
    "    return np.sum(x[:,0])\n",
    "def addcol(x):\n",
    "    return np.sum(x[0,:])\n",
    " \n",
    "print(\"strides:\", C.strides,'\\n','\\n',  C.flags )\n",
    "print(\"strides:\", F.strides,'\\n','\\n',  F.flags )"
   ]
  },
  {
   "cell_type": "code",
   "execution_count": 36,
   "metadata": {},
   "outputs": [
    {
     "name": "stdout",
     "output_type": "stream",
     "text": [
      "2.96 µs ± 45.2 ns per loop (mean ± std. dev. of 7 runs, 100000 loops each)\n"
     ]
    }
   ],
   "source": [
    "%timeit addrow(C)"
   ]
  },
  {
   "cell_type": "code",
   "execution_count": 37,
   "metadata": {},
   "outputs": [
    {
     "name": "stdout",
     "output_type": "stream",
     "text": [
      "2.89 µs ± 17.3 ns per loop (mean ± std. dev. of 7 runs, 100000 loops each)\n"
     ]
    }
   ],
   "source": [
    "%timeit addrow(F)"
   ]
  },
  {
   "cell_type": "code",
   "execution_count": 38,
   "metadata": {},
   "outputs": [
    {
     "name": "stdout",
     "output_type": "stream",
     "text": [
      "2.94 µs ± 34 ns per loop (mean ± std. dev. of 7 runs, 100000 loops each)\n"
     ]
    }
   ],
   "source": [
    "%timeit addcol(C)"
   ]
  },
  {
   "cell_type": "code",
   "execution_count": 40,
   "metadata": {},
   "outputs": [
    {
     "name": "stdout",
     "output_type": "stream",
     "text": [
      "2.95 µs ± 61.5 ns per loop (mean ± std. dev. of 7 runs, 100000 loops each)\n"
     ]
    }
   ],
   "source": [
    "%timeit addcol(F)"
   ]
  },
  {
   "cell_type": "code",
   "execution_count": 42,
   "metadata": {},
   "outputs": [
    {
     "data": {
      "text/plain": [
       "array([[ 3,  4,  5],\n",
       "       [ 6,  8, 10]])"
      ]
     },
     "execution_count": 42,
     "metadata": {},
     "output_type": "execute_result"
    }
   ],
   "source": [
    "mat1=np.array([1,2])\n",
    "mat2=np.array([3,4,5])\n",
    "\n",
    "mat3=np.outer(mat1, mat2)\n",
    "mat3"
   ]
  },
  {
   "cell_type": "markdown",
   "metadata": {},
   "source": [
    "# MASK"
   ]
  },
  {
   "cell_type": "code",
   "execution_count": 46,
   "metadata": {},
   "outputs": [
    {
     "data": {
      "text/plain": [
       "array([[0.861967  , 0.19777719, 0.81783572, 0.1324462 , 0.1640826 ],\n",
       "       [0.87037605, 0.86892834, 0.38689664, 0.1883746 , 0.13562489],\n",
       "       [0.2936725 , 0.94145195, 0.14479367, 0.21942912, 0.10391807],\n",
       "       [0.70695887, 0.34400144, 0.27166783, 0.14364829, 0.48303932],\n",
       "       [0.72522936, 0.95164837, 0.13531908, 0.74937667, 0.6929856 ]])"
      ]
     },
     "execution_count": 46,
     "metadata": {},
     "output_type": "execute_result"
    }
   ],
   "source": [
    "P=np.random.rand(5,5)\n",
    "P\n"
   ]
  },
  {
   "cell_type": "code",
   "execution_count": 51,
   "metadata": {},
   "outputs": [
    {
     "data": {
      "text/plain": [
       "array([[False,  True, False,  True,  True],\n",
       "       [False, False,  True,  True,  True],\n",
       "       [ True, False,  True,  True,  True],\n",
       "       [False,  True,  True,  True,  True],\n",
       "       [False, False,  True, False, False]])"
      ]
     },
     "execution_count": 51,
     "metadata": {},
     "output_type": "execute_result"
    }
   ],
   "source": [
    "mask=(P<0.5)\n",
    "mask\n"
   ]
  },
  {
   "cell_type": "code",
   "execution_count": 49,
   "metadata": {},
   "outputs": [
    {
     "data": {
      "text/plain": [
       "array([[0.861967  , 0.        , 0.81783572, 0.        , 0.        ],\n",
       "       [0.87037605, 0.86892834, 0.        , 0.        , 0.        ],\n",
       "       [0.        , 0.94145195, 0.        , 0.        , 0.        ],\n",
       "       [0.70695887, 0.        , 0.        , 0.        , 0.        ],\n",
       "       [0.72522936, 0.95164837, 0.        , 0.74937667, 0.6929856 ]])"
      ]
     },
     "execution_count": 49,
     "metadata": {},
     "output_type": "execute_result"
    }
   ],
   "source": [
    "P[mask]=0\n",
    "P"
   ]
  },
  {
   "cell_type": "code",
   "execution_count": 50,
   "metadata": {},
   "outputs": [
    {
     "data": {
      "text/plain": [
       "8.186757941759764"
      ]
     },
     "execution_count": 50,
     "metadata": {},
     "output_type": "execute_result"
    }
   ],
   "source": [
    "P.sum()"
   ]
  },
  {
   "cell_type": "code",
   "execution_count": null,
   "metadata": {},
   "outputs": [],
   "source": []
  }
 ],
 "metadata": {
  "kernelspec": {
   "display_name": "Python 3",
   "language": "python",
   "name": "python3"
  },
  "language_info": {
   "codemirror_mode": {
    "name": "ipython",
    "version": 3
   },
   "file_extension": ".py",
   "mimetype": "text/x-python",
   "name": "python",
   "nbconvert_exporter": "python",
   "pygments_lexer": "ipython3",
   "version": "3.7.10"
  }
 },
 "nbformat": 4,
 "nbformat_minor": 4
}
